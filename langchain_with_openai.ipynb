{
 "cells": [
  {
   "cell_type": "code",
   "execution_count": null,
   "metadata": {},
   "outputs": [],
   "source": [
    "%pip install langsmith"
   ]
  },
  {
   "cell_type": "code",
   "execution_count": 22,
   "metadata": {},
   "outputs": [],
   "source": [
    "# environment variables:\n",
    "import os\n",
    "from dotenv import load_dotenv\n",
    "load_dotenv()\n",
    "\n",
    "os.environ[\"OPENAI_API_KEY\"]=os.getenv(\"OPENAI_API_KEY\")\n",
    "os.environ[\"LANGCHAIN_API_KEY\"]=os.getenv(\"LANGCHAIN_API_KEY\")\n",
    "os.environ[\"LANGSMITH_API_KEY\"]=os.getenv(\"LANGSMITH_API_KEY\")\n",
    "os.environ[\"LANGSMITH_TRACING\"]= \"True\"\n",
    "os.environ[\"LANGCHAIN_PROJECT\"]=os.getenv(\"LANGCHAIN_PROJECT\")\n",
    "os.environ[\"LANGSMITH_ENDPOINT\"]=os.getenv(\"LANGSMITH_ENDPOINT\")\n",
    "\n"
   ]
  },
  {
   "cell_type": "code",
   "execution_count": 23,
   "metadata": {},
   "outputs": [
    {
     "name": "stdout",
     "output_type": "stream",
     "text": [
      "client=<openai.resources.chat.completions.Completions object at 0x000001CBEAB9D540> async_client=<openai.resources.chat.completions.AsyncCompletions object at 0x000001CBEAB9BD30> root_client=<openai.OpenAI object at 0x000001CBEAA5EFE0> root_async_client=<openai.AsyncOpenAI object at 0x000001CBEAB9D7E0> model_name='gpt-4o' model_kwargs={} openai_api_key=SecretStr('**********')\n"
     ]
    }
   ],
   "source": [
    "from langchain_openai import ChatOpenAI\n",
    "llm=ChatOpenAI(model=\"gpt-4o\")\n",
    "print(llm)"
   ]
  },
  {
   "cell_type": "code",
   "execution_count": 24,
   "metadata": {},
   "outputs": [
    {
     "name": "stdout",
     "output_type": "stream",
     "text": [
      "content='Generative AI refers to a category of artificial intelligence techniques and models that are designed to generate new content, such as images, music, text, or other data, that is similar to, but distinct from, a given training dataset. These models learn patterns and structures from the input data and then use that knowledge to produce novel outputs. Some key aspects and examples of generative AI include:\\n\\n1. **Generative Adversarial Networks (GANs)**: Introduced by Ian Goodfellow and colleagues in 2014, GANs involve two neural networks, a generator and a discriminator, competing against each other. The generator creates fake data while the discriminator evaluates its authenticity. This adversarial process helps improve the quality of the generated content, often used in image generation and deepfake technologies.\\n\\n2. **Variational Autoencoders (VAEs)**: These models use probabilistic approaches to generate data by encoding input data into a concise representation and then decoding it back into the original space. VAEs are particularly useful for generating new data points in a continuous space and are often used for tasks like image reconstruction and synthesis.\\n\\n3. **Transformer-based Models**: Large language models such as GPT (by OpenAI), BERT (by Google), and Transformer-based architectures have been instrumental in text generation. These models can produce coherent and contextually relevant text, making them useful for tasks like chatbots, content creation, and language translation.\\n\\n4. **Diffusion Models**: Emerging as a powerful method for image and audio generation, diffusion models gradually convert simple noise into complex data distributions, yielding high-quality outputs.\\n\\nGenerative AI has applications across various industries, including entertainment, healthcare, design, and more, facilitating creative processes, automating mundane tasks, and developing new ways to interact with technology. However, it also raises ethical considerations related to authenticity, consent, and the potential for misuse, such as in misinformation campaigns or creating unauthorized content.' additional_kwargs={'refusal': None} response_metadata={'token_usage': {'completion_tokens': 390, 'prompt_tokens': 13, 'total_tokens': 403, 'completion_tokens_details': {'accepted_prediction_tokens': 0, 'audio_tokens': 0, 'reasoning_tokens': 0, 'rejected_prediction_tokens': 0}, 'prompt_tokens_details': {'audio_tokens': 0, 'cached_tokens': 0}}, 'model_name': 'gpt-4o-2024-08-06', 'system_fingerprint': 'fp_4691090a87', 'finish_reason': 'stop', 'logprobs': None} id='run-22e336f0-4c41-46f7-a18e-7925716a6042-0' usage_metadata={'input_tokens': 13, 'output_tokens': 390, 'total_tokens': 403, 'input_token_details': {'audio': 0, 'cache_read': 0}, 'output_token_details': {'audio': 0, 'reasoning': 0}}\n"
     ]
    }
   ],
   "source": [
    "# input and get response from the model\n",
    "results=llm.invoke(\"what is Generative AI?\")\n",
    "print(results)"
   ]
  },
  {
   "cell_type": "code",
   "execution_count": 25,
   "metadata": {},
   "outputs": [
    {
     "data": {
      "text/plain": [
       "ChatPromptTemplate(input_variables=['input'], input_types={}, partial_variables={}, messages=[SystemMessagePromptTemplate(prompt=PromptTemplate(input_variables=[], input_types={}, partial_variables={}, template='you are an expert AI engineer. Provide me answers based on the question.'), additional_kwargs={}), HumanMessagePromptTemplate(prompt=PromptTemplate(input_variables=['input'], input_types={}, partial_variables={}, template='{input}'), additional_kwargs={})])"
      ]
     },
     "execution_count": 25,
     "metadata": {},
     "output_type": "execute_result"
    }
   ],
   "source": [
    "# chatprompt Template:\n",
    "from langchain_core.prompts import ChatPromptTemplate\n",
    "prompt=ChatPromptTemplate([\n",
    "    (\"system\", \"you are an expert AI engineer. Provide me answers based on the question.\"),\n",
    "    (\"user\", \"{input}\"),\n",
    "])\n",
    "prompt"
   ]
  },
  {
   "cell_type": "code",
   "execution_count": 26,
   "metadata": {},
   "outputs": [
    {
     "name": "stdout",
     "output_type": "stream",
     "text": [
      "content=\"Generative AI refers to a class of artificial intelligence systems designed to generate new content, such as text, images, audio, or even video. Unlike traditional AI systems that typically perform classification or prediction tasks based on input data, generative AI models learn patterns from vast amounts of data to create content that mimics the style and structure of the training data.\\n\\nThe most popular generative AI models include:\\n\\n1. **Generative Adversarial Networks (GANs):** These consist of two neural networks, a generator and a discriminator, that work against each other. The generator creates new data, while the discriminator evaluates its authenticity, providing feedback to improve the generator's performance.\\n\\n2. **Variational Autoencoders (VAEs):** These models encode input data into a compressed form and then decode it back to generate variations of the data, maintaining the underlying patterns of the original data.\\n\\n3. **Transformer-based models:** Models like GPT (Generative Pre-trained Transformer) are designed for text generation. They use large-scale training on diverse datasets to produce coherent and contextually relevant text responses.\\n\\nGenerative AI has broad applications, ranging from creating realistic images, generating human-like text for chatbots, composing music, developing new product designs, to enhancing drug discovery processes. Its capabilities have raised both excitement for its potential and concerns regarding ethical implications, such as deepfakes and content authenticity.\" additional_kwargs={'refusal': None} response_metadata={'token_usage': {'completion_tokens': 279, 'prompt_tokens': 32, 'total_tokens': 311, 'completion_tokens_details': {'accepted_prediction_tokens': 0, 'audio_tokens': 0, 'reasoning_tokens': 0, 'rejected_prediction_tokens': 0}, 'prompt_tokens_details': {'audio_tokens': 0, 'cached_tokens': 0}}, 'model_name': 'gpt-4o-2024-08-06', 'system_fingerprint': 'fp_4691090a87', 'finish_reason': 'stop', 'logprobs': None} id='run-3f6d0f56-816c-4f70-811f-77d17e91690d-0' usage_metadata={'input_tokens': 32, 'output_tokens': 279, 'total_tokens': 311, 'input_token_details': {'audio': 0, 'cache_read': 0}, 'output_token_details': {'audio': 0, 'reasoning': 0}}\n"
     ]
    }
   ],
   "source": [
    "chain=prompt | llm\n",
    "results=chain.invoke({\"input\":\"what is Generative AI?\"})\n",
    "print(results)"
   ]
  },
  {
   "cell_type": "code",
   "execution_count": 27,
   "metadata": {},
   "outputs": [
    {
     "data": {
      "text/plain": [
       "langchain_core.messages.ai.AIMessage"
      ]
     },
     "execution_count": 27,
     "metadata": {},
     "output_type": "execute_result"
    }
   ],
   "source": [
    "type(results)"
   ]
  },
  {
   "cell_type": "code",
   "execution_count": 28,
   "metadata": {},
   "outputs": [
    {
     "name": "stdout",
     "output_type": "stream",
     "text": [
      "Generative AI refers to a subset of artificial intelligence that focuses on creating content, whether it be text, images, audio, or other types of media. Unlike traditional AI, which typically involves recognizing patterns or making decisions based on existing data, generative AI can produce new data that resembles the input data it was trained on.\n",
      "\n",
      "Key characteristics and technologies involved in generative AI include:\n",
      "\n",
      "1. **Generative Adversarial Networks (GANs)**: These involve two neural networks, a generator and a discriminator, working against each other. The generator creates data, while the discriminator evaluates it. The goal is for the generator to produce data that is indistinguishable from real data.\n",
      "\n",
      "2. **Variational Autoencoders (VAEs)**: VAEs learn to represent input data in a latent space and then generate new instances by sampling from this space. They're often used in applications where a smooth transition between data samples is desired.\n",
      "\n",
      "3. **Transformers**: These are a type of neural network architecture that underlies many state-of-the-art models for text and sequence generation, such as GPT (Generative Pre-trained Transformer). Transformers are particularly effective at learning context and relationships in sequential data.\n",
      "\n",
      "Applications of generative AI are diverse and growing, including:\n",
      "\n",
      "- **Natural Language Processing (NLP)**: Generating human-like text for chatbots, virtual assistants, or automated content creation.\n",
      "- **Image and Video Synthesis**: Creating realistic-looking images and videos, useful in video game design, film special effects, and virtual reality.\n",
      "- **Music and Audio Generation**: Composing original music or generating soundscapes.\n",
      "- **Data Augmentation**: Increasing the diversity of training data for machine learning models by generating new instances.\n",
      "- **Creative Design**: Assisting artists and designers by generating creative ideas or drafts for further refinement.\n",
      "\n",
      "Generative AI poses both exciting opportunities and ethical challenges, particularly concerning data privacy, security, and the potential for misuse in creating deepfakes or other deceptive content. Ensuring ethical use and aligning AI development with societal values are critical considerations in the advancement of this technology.\n"
     ]
    }
   ],
   "source": [
    "## str out put parser:\n",
    "from langchain_core.output_parsers import StrOutputParser\n",
    "chain=prompt | llm | StrOutputParser()\n",
    "results=chain.invoke({\"input\":\"what is Generative AI?\"})\n",
    "print(results)"
   ]
  }
 ],
 "metadata": {
  "kernelspec": {
   "display_name": "venv",
   "language": "python",
   "name": "python3"
  },
  "language_info": {
   "codemirror_mode": {
    "name": "ipython",
    "version": 3
   },
   "file_extension": ".py",
   "mimetype": "text/x-python",
   "name": "python",
   "nbconvert_exporter": "python",
   "pygments_lexer": "ipython3",
   "version": "3.10.0"
  }
 },
 "nbformat": 4,
 "nbformat_minor": 2
}
